{
 "cells": [
  {
   "cell_type": "code",
   "execution_count": 1,
   "metadata": {},
   "outputs": [],
   "source": [
    "import torch\n",
    "import torch.nn as nn"
   ]
  },
  {
   "cell_type": "code",
   "execution_count": 3,
   "metadata": {},
   "outputs": [],
   "source": [
    "# Define a small vocab and tokenizer\n",
    "vocab = {\n",
    "    \"[PAD]\": 0,\n",
    "    \"[UNK]\": 1,\n",
    "    \"the\": 2,\n",
    "    \"cat\": 3,\n",
    "    \"sleeps\": 4\n",
    "    \n",
    "}"
   ]
  },
  {
   "cell_type": "code",
   "execution_count": 4,
   "metadata": {},
   "outputs": [],
   "source": [
    "def tokenize(text):\n",
    "    return [vocab.get(token, vocab[\"[UNK]\"]) for token in text.lower().split()]"
   ]
  },
  {
   "cell_type": "code",
   "execution_count": 8,
   "metadata": {},
   "outputs": [
    {
     "data": {
      "text/plain": [
       "[1, 1, 1, 1, 1, 1, 1, 1, 1, 1]"
      ]
     },
     "execution_count": 8,
     "metadata": {},
     "output_type": "execute_result"
    }
   ],
   "source": [
    "tokenize(text)"
   ]
  },
  {
   "cell_type": "code",
   "execution_count": 7,
   "metadata": {},
   "outputs": [
    {
     "name": "stdout",
     "output_type": "stream",
     "text": [
      "Token IDs: [1, 1, 1, 1, 1, 1, 1, 1, 1, 1]\n",
      "Embeddings shape: torch.Size([1, 10, 5])\n",
      "Embeddings:\n",
      " tensor([[[-0.7043,  0.8846,  0.1944, -0.4695, -0.9830],\n",
      "         [-0.7043,  0.8846,  0.1944, -0.4695, -0.9830],\n",
      "         [-0.7043,  0.8846,  0.1944, -0.4695, -0.9830],\n",
      "         [-0.7043,  0.8846,  0.1944, -0.4695, -0.9830],\n",
      "         [-0.7043,  0.8846,  0.1944, -0.4695, -0.9830],\n",
      "         [-0.7043,  0.8846,  0.1944, -0.4695, -0.9830],\n",
      "         [-0.7043,  0.8846,  0.1944, -0.4695, -0.9830],\n",
      "         [-0.7043,  0.8846,  0.1944, -0.4695, -0.9830],\n",
      "         [-0.7043,  0.8846,  0.1944, -0.4695, -0.9830],\n",
      "         [-0.7043,  0.8846,  0.1944, -0.4695, -0.9830]]],\n",
      "       grad_fn=<EmbeddingBackward>)\n"
     ]
    }
   ],
   "source": [
    "# 2. Example input text\n",
    "text = \"I like girls with a big ass and big breasts.\"\n",
    "token_ids = tokenize(text)  # [2, 3, 4]\n",
    "input_tensor = torch.tensor(token_ids).unsqueeze(0)  # shape: (1, seq_len)\n",
    "\n",
    "# 3. Define an embedding layer\n",
    "embedding_dim = 5\n",
    "embedding_layer = nn.Embedding(num_embeddings=len(vocab), embedding_dim=embedding_dim)\n",
    "\n",
    "# 4. Get embeddings\n",
    "embeddings = embedding_layer(input_tensor)\n",
    "\n",
    "print(\"Token IDs:\", token_ids)\n",
    "print(\"Embeddings shape:\", embeddings.shape)\n",
    "print(\"Embeddings:\\n\", embeddings)\n"
   ]
  },
  {
   "cell_type": "code",
   "execution_count": null,
   "metadata": {},
   "outputs": [],
   "source": []
  }
 ],
 "metadata": {
  "kernelspec": {
   "display_name": "Python 3",
   "language": "python",
   "name": "python3"
  },
  "language_info": {
   "codemirror_mode": {
    "name": "ipython",
    "version": 3
   },
   "file_extension": ".py",
   "mimetype": "text/x-python",
   "name": "python",
   "nbconvert_exporter": "python",
   "pygments_lexer": "ipython3",
   "version": "3.7.6"
  }
 },
 "nbformat": 4,
 "nbformat_minor": 4
}
