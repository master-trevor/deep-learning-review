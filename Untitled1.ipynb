{
 "cells": [
  {
   "cell_type": "code",
   "execution_count": 1,
   "metadata": {},
   "outputs": [
    {
     "name": "stdout",
     "output_type": "stream",
     "text": [
      "Epoch 0 | Loss: 2.4934 | Predicted: 0\n",
      "Epoch 40 | Loss: 0.0034 | Predicted: 4\n",
      "Epoch 80 | Loss: 0.0017 | Predicted: 4\n",
      "Epoch 120 | Loss: 0.0013 | Predicted: 4\n",
      "Epoch 160 | Loss: 0.0010 | Predicted: 4\n"
     ]
    }
   ],
   "source": [
    "import torch\n",
    "import torch.nn as nn\n",
    "import torch.optim as optim\n",
    "\n",
    "# Toy sequence: [0, 1, 2, 3] → predict 4\n",
    "# We'll use 1-hot encoding for simplicity\n",
    "vocab_size = 10\n",
    "input_seq = torch.tensor([[0, 1, 2, 3]])  # (batch, seq_len)\n",
    "target = torch.tensor([4])               # next number\n",
    "\n",
    "# One-hot encode input\n",
    "input_onehot = nn.functional.one_hot(input_seq, num_classes=vocab_size).float()\n",
    "\n",
    "# Define simple RNN model\n",
    "class TinyRNN(nn.Module):\n",
    "    def __init__(self, input_size, hidden_size, output_size):\n",
    "        super().__init__()\n",
    "        self.rnn = nn.RNN(input_size, hidden_size, batch_first=True)\n",
    "        self.fc = nn.Linear(hidden_size, output_size)\n",
    "\n",
    "    def forward(self, x):\n",
    "        out, _ = self.rnn(x)             # out: (batch, seq_len, hidden)\n",
    "        last_hidden = out[:, -1, :]      # grab last time step\n",
    "        return self.fc(last_hidden)\n",
    "\n",
    "model = TinyRNN(vocab_size, hidden_size=16, output_size=vocab_size)\n",
    "\n",
    "# Loss and optimizer\n",
    "criterion = nn.CrossEntropyLoss()\n",
    "optimizer = optim.Adam(model.parameters(), lr=0.01)\n",
    "\n",
    "# Training loop\n",
    "for epoch in range(200):\n",
    "    optimizer.zero_grad()\n",
    "    output = model(input_onehot)\n",
    "    loss = criterion(output, target)\n",
    "    loss.backward()\n",
    "    optimizer.step()\n",
    "\n",
    "    if epoch % 40 == 0:\n",
    "        pred = torch.argmax(output, dim=1).item()\n",
    "        print(f\"Epoch {epoch} | Loss: {loss.item():.4f} | Predicted: {pred}\")\n"
   ]
  }
 ],
 "metadata": {
  "kernelspec": {
   "display_name": "Python 3",
   "language": "python",
   "name": "python3"
  },
  "language_info": {
   "codemirror_mode": {
    "name": "ipython",
    "version": 3
   },
   "file_extension": ".py",
   "mimetype": "text/x-python",
   "name": "python",
   "nbconvert_exporter": "python",
   "pygments_lexer": "ipython3",
   "version": "3.7.6"
  }
 },
 "nbformat": 4,
 "nbformat_minor": 4
}
